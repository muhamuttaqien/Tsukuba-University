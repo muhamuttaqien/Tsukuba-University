{
 "cells": [
  {
   "cell_type": "code",
   "execution_count": null,
   "id": "b08dc852",
   "metadata": {},
   "outputs": [],
   "source": [
    "import random\n",
    "import pandas as pd\n",
    "import matplotlib.pyplot as plt\n",
    "\n",
    "import ai2thor\n",
    "import ai2thor_colab\n",
    "from ai2thor_colab import plot_frames, side_by_side\n",
    "from ai2thor.controller import Controller\n",
    "\n",
    "from IPython.display import clear_output"
   ]
  },
  {
   "cell_type": "code",
   "execution_count": null,
   "id": "1981a73a",
   "metadata": {},
   "outputs": [],
   "source": [
    "from ai2thor.platform import CloudRendering\n",
    "controller = Controller(platform=CloudRendering)"
   ]
  },
  {
   "cell_type": "code",
   "execution_count": null,
   "id": "c807341a",
   "metadata": {},
   "outputs": [],
   "source": [
    "\"AI2-THOR Version: \" + ai2thor.__version__"
   ]
  },
  {
   "cell_type": "code",
   "execution_count": null,
   "id": "58a24100",
   "metadata": {},
   "outputs": [],
   "source": [
    "import cv2\n",
    "print(cv2.__version__)"
   ]
  },
  {
   "cell_type": "markdown",
   "id": "bccb9762",
   "metadata": {},
   "source": [
    "## Workspace"
   ]
  },
  {
   "cell_type": "code",
   "execution_count": null,
   "id": "ed666d9b",
   "metadata": {},
   "outputs": [],
   "source": [
    "def show_object_detected(controller, object_names):\n",
    "\n",
    "    data = controller.last_event.metadata['objects']\n",
    "\n",
    "    df_data = pd.DataFrame(data)\n",
    "\n",
    "    df_object = df_data[df_data['name'].isin(object_names)]\n",
    "    \n",
    "    print('Object detected:')\n",
    "    print(dict(df_object['name'][df_object['visible'] == True]))\n",
    "    \n",
    "    return df_object"
   ]
  },
  {
   "cell_type": "code",
   "execution_count": null,
   "id": "d71b713c",
   "metadata": {},
   "outputs": [],
   "source": [
    "floor_index = random.randint(0, 30)\n",
    "floor_index = \"420\"\n",
    "\n",
    "controller = Controller(\n",
    "    agentMode = \"default\", # default, locobot, arm\n",
    "    visibilityDistance = 0.50,\n",
    "    scene = f\"FloorPlan{floor_index}\",\n",
    "\n",
    "    # step sizes\n",
    "    gridSize = 0.1,\n",
    "    snapToGrid = True,\n",
    "    rotateStepDegrees = 90,\n",
    "\n",
    "    # image modalitiesB\n",
    "    renderInstanceSegmentation = False,\n",
    "    renderDepthImage = False,\n",
    "    renderSemanticSegmentation = False,\n",
    "    renderNormalsImage = False,\n",
    "    \n",
    "    # camera properties\n",
    "    width = 1200,\n",
    "    height = 800,\n",
    "    fieldOfView = 120\n",
    ")"
   ]
  },
  {
   "cell_type": "code",
   "execution_count": null,
   "id": "bbcda05d",
   "metadata": {},
   "outputs": [],
   "source": [
    "objects = controller.last_event.metadata['objects']\n",
    "object_names = [obj['name'] for obj in objects]"
   ]
  },
  {
   "cell_type": "code",
   "execution_count": null,
   "id": "013a1f18",
   "metadata": {},
   "outputs": [],
   "source": [
    "w = \"MoveAhead\"\n",
    "a = \"MoveLeft\"\n",
    "s = \"MoveBack\"\n",
    "d = \"MoveRight\"\n",
    "\n",
    "l = \"RotateLeft\"\n",
    "r = \"RotateRight\"\n",
    "\n",
    "q = \"LookUp\"\n",
    "e = \"LookDown\"\n",
    "\n",
    "z = \"Stand\"\n",
    "c = \"Crouch\""
   ]
  },
  {
   "cell_type": "code",
   "execution_count": null,
   "id": "c6c908d5",
   "metadata": {},
   "outputs": [],
   "source": [
    "data = controller.last_event.metadata['objects']\n",
    "df_data = pd.DataFrame(data)"
   ]
  },
  {
   "cell_type": "code",
   "execution_count": null,
   "id": "823a0d72",
   "metadata": {},
   "outputs": [],
   "source": [
    "def reallocate_agent(controller):\n",
    "    \n",
    "    positions = [{'x': 0.5, 'y': 0.9009991884231567, 'z': -1.25}]\n",
    "    \n",
    "    position = random.choice(positions)\n",
    "    \n",
    "    controller.step(\n",
    "        action=\"Teleport\",\n",
    "        position=position,\n",
    "        rotation=dict(x=0, y=90, z=0),\n",
    "        horizon=0,\n",
    "        standing=True\n",
    "    )"
   ]
  },
  {
   "cell_type": "code",
   "execution_count": null,
   "id": "7dd179f3",
   "metadata": {},
   "outputs": [],
   "source": [
    "def reposition_agent(controller):\n",
    "    \n",
    "    \n",
    "    event = controller.step(\"RotateLeft\")\n",
    "    event = controller.step(\"MoveAhead\")\n",
    "    \n",
    "    event = controller.step(\n",
    "        action=\"PickupObject\",\n",
    "        objectId=\"Bowl|+01.59|+00.90|-01.26\",\n",
    "        forceAction=False,\n",
    "        manualInteract=False\n",
    "    )"
   ]
  },
  {
   "cell_type": "code",
   "execution_count": null,
   "id": "9bef21e7",
   "metadata": {},
   "outputs": [],
   "source": [
    "reposition_agent(controller)"
   ]
  },
  {
   "cell_type": "code",
   "execution_count": null,
   "id": "8a0fbe7f",
   "metadata": {
    "scrolled": false
   },
   "outputs": [],
   "source": [
    "df_object = show_object_detected(controller, object_names)\n",
    "df_object"
   ]
  },
  {
   "cell_type": "code",
   "execution_count": null,
   "id": "d40e1615",
   "metadata": {
    "scrolled": false
   },
   "outputs": [],
   "source": [
    "# initialize the environment and state\n",
    "# controller.reset(random=True)\n",
    "    \n",
    "# reallocate_agent(controller)\n",
    "\n",
    "command = w\n",
    "\n",
    "event = controller.step(command)\n",
    "agent_position = event.metadata[\"agent\"][\"position\"]\n",
    "\n",
    "print(\"Agent position:\")\n",
    "print(agent_position)\n",
    "\n",
    "agent_rotation = event.metadata[\"agent\"][\"rotation\"]\n",
    "\n",
    "print(\"Agent rotation:\")\n",
    "print(agent_rotation)\n",
    "show_object_detected(controller, object_names)\n",
    "\n",
    "plot_frames(controller.last_event)"
   ]
  },
  {
   "cell_type": "code",
   "execution_count": null,
   "id": "7baf5181",
   "metadata": {},
   "outputs": [],
   "source": [
    "# CounterTop_e54defa0 # DiningTable_00be542e"
   ]
  },
  {
   "cell_type": "code",
   "execution_count": null,
   "id": "15bbed8b",
   "metadata": {},
   "outputs": [],
   "source": [
    "event = controller.step(\n",
    "    action=\"OpenObject\",\n",
    "    objectId=\"Fridge|-01.50|+00.00|-00.70\",\n",
    "    forceAction=False\n",
    ")\n",
    "\n",
    "agent_position = event.metadata[\"agent\"][\"position\"]\n",
    "\n",
    "print(\"Agent position:\")\n",
    "print(agent_position)\n",
    "show_object_detected(controller, object_names)\n",
    "\n",
    "plot_frames(controller.last_event)"
   ]
  },
  {
   "cell_type": "code",
   "execution_count": null,
   "id": "54d87f09",
   "metadata": {},
   "outputs": [],
   "source": [
    "event = controller.step(\n",
    "    action=\"PutObject\",\n",
    "    objectId=\"Fridge|-01.50|+00.00|-00.70\",\n",
    "    forceAction=True,\n",
    "    placeStationary=True\n",
    ")\n",
    "\n",
    "agent_position = event.metadata[\"agent\"][\"position\"]\n",
    "\n",
    "print(\"Agent position:\")\n",
    "print(agent_position)\n",
    "show_object_detected(controller, object_names)\n",
    "\n",
    "plot_frames(controller.last_event)"
   ]
  },
  {
   "cell_type": "code",
   "execution_count": null,
   "id": "ab3b60a4",
   "metadata": {},
   "outputs": [],
   "source": [
    "event = controller.step(\n",
    "    action=\"PickupObject\",\n",
    "    objectId=\"Bread|+00.40|+00.96|+00.11\", # Vase|+01.74|+00.89|+02.48 # Bowl|+01.59|+00.90|-01.26 # Bread|+00.40|+00.96|+00.11\n",
    "    forceAction=False,\n",
    "    manualInteract=False\n",
    ")\n",
    "\n",
    "agent_position = event.metadata[\"agent\"][\"position\"]\n",
    "\n",
    "print(\"Agent position:\")\n",
    "print(agent_position)\n",
    "show_object_detected(controller, object_names)\n",
    "\n",
    "plot_frames(controller.last_event)"
   ]
  },
  {
   "cell_type": "code",
   "execution_count": null,
   "id": "17f6be20",
   "metadata": {},
   "outputs": [],
   "source": [
    "event.metadata[\"lastActionSuccess\"]"
   ]
  },
  {
   "cell_type": "code",
   "execution_count": null,
   "id": "1aecf4cb",
   "metadata": {},
   "outputs": [],
   "source": [
    "controller.step(\n",
    "    action=\"ThrowObject\",\n",
    "    moveMagnitude=25.0,\n",
    "    forceAction=False\n",
    ")\n",
    "\n",
    "agent_position = event.metadata[\"agent\"][\"position\"]\n",
    "\n",
    "print(\"Agent position:\")\n",
    "print(agent_position)\n",
    "show_object_detected(controller, object_names)\n",
    "\n",
    "plot_frames(controller.last_event)"
   ]
  },
  {
   "cell_type": "code",
   "execution_count": null,
   "id": "30b4655c",
   "metadata": {},
   "outputs": [],
   "source": [
    "event = controller.step(\n",
    "    action=\"DropHandObject\",\n",
    "    forceAction=True\n",
    ")\n",
    "\n",
    "agent_position = event.metadata[\"agent\"][\"position\"]\n",
    "\n",
    "print(\"Agent position:\")\n",
    "print(agent_position)\n",
    "show_object_detected(controller, object_names)\n",
    "\n",
    "plot_frames(controller.last_event)"
   ]
  },
  {
   "cell_type": "code",
   "execution_count": null,
   "id": "5423a305",
   "metadata": {},
   "outputs": [],
   "source": [
    "event.metadata[\"lastActionSuccess\"]"
   ]
  },
  {
   "cell_type": "markdown",
   "id": "a3e51663",
   "metadata": {},
   "source": [
    "---"
   ]
  },
  {
   "cell_type": "code",
   "execution_count": null,
   "id": "14a59c43",
   "metadata": {},
   "outputs": [],
   "source": [
    "def get_object_id_by_name(items, name):\n",
    "    for item in items:\n",
    "        if item['name'].startswith(name):\n",
    "            return item['objectId']\n",
    "    return None\n",
    "\n",
    "# Example usage\n",
    "object_id = get_object_id_by_name(metadata['objects'], \"Apple_f4a7b8b3\")"
   ]
  },
  {
   "cell_type": "code",
   "execution_count": null,
   "id": "4dbdc9ec",
   "metadata": {},
   "outputs": [],
   "source": [
    "metadata = event.metadata\n",
    "list(metadata.keys())"
   ]
  },
  {
   "cell_type": "code",
   "execution_count": null,
   "id": "17a53e03",
   "metadata": {
    "scrolled": false
   },
   "outputs": [],
   "source": [
    "metadata['objects']"
   ]
  },
  {
   "cell_type": "code",
   "execution_count": null,
   "id": "99f1adcf",
   "metadata": {
    "scrolled": true
   },
   "outputs": [],
   "source": [
    "target_data = next((obj for obj in metadata['objects'] if obj['name'] == 'Bowl_89852f2b'), None)\n",
    "target_data['isPickedUp']"
   ]
  },
  {
   "cell_type": "code",
   "execution_count": null,
   "id": "3a7a2bdc",
   "metadata": {
    "scrolled": true
   },
   "outputs": [],
   "source": [
    "target_data = next((obj for obj in metadata['objects'] if obj['name'] == 'Bowl_89852f2b'), None)\n",
    "target_data['objectId']"
   ]
  },
  {
   "cell_type": "code",
   "execution_count": null,
   "id": "b51ff43c",
   "metadata": {},
   "outputs": [],
   "source": [
    "target_data = next((obj for obj in metadata['objects'] if obj['name'] == 'Bowl_89852f2b'), None)\n",
    "place_data = next((obj for obj in metadata['objects'] if obj['name'] == 'DiningTable_00be542e'), None)\n",
    "\n",
    "if target_data['objectId'] in place_data['receptacleObjectIds']:\n",
    "    print(\"Exist.\")\n",
    "else:\n",
    "    print(\"Doesnot exist.\")"
   ]
  },
  {
   "cell_type": "code",
   "execution_count": null,
   "id": "10ae4817",
   "metadata": {},
   "outputs": [],
   "source": [
    "scene_name = event.metadata[\"sceneName\"]\n",
    "scene_bounds = event.metadata[\"sceneBounds\"]\n",
    "print(f\"Scene name: {scene_name}, Scene bounds: X = {scene_bounds['size']['x']}, Y = {scene_bounds['size']['y']}\")"
   ]
  },
  {
   "cell_type": "code",
   "execution_count": null,
   "id": "c9dd7fc9",
   "metadata": {},
   "outputs": [],
   "source": [
    "objects = controller.last_event.metadata['objects']\n",
    "print(f\"Total objects: {len(objects)}\")"
   ]
  },
  {
   "cell_type": "code",
   "execution_count": null,
   "id": "661be734",
   "metadata": {
    "scrolled": false
   },
   "outputs": [],
   "source": [
    "names = [obj['name'] for obj in objects]\n",
    "names # CoffeeMachine_ce92cf84, Fridge_5134d575, Vase_7932859a"
   ]
  },
  {
   "cell_type": "code",
   "execution_count": null,
   "id": "89a3b388",
   "metadata": {},
   "outputs": [],
   "source": [
    "def encode_feedback(event, controller, target_name):\n",
    "    \n",
    "    agent_position = event.metadata[\"agent\"][\"position\"]\n",
    "    data = controller.last_event.metadata['objects']\n",
    "    \n",
    "    index_location = next((index for index, item in enumerate(data) if item['name'] == target_name), None)\n",
    "    is_found = data[index_location]['visible']\n",
    "    \n",
    "    if is_found:\n",
    "        reward = +10\n",
    "    else:\n",
    "        reward = -0.05\n",
    "    \n",
    "    return None, random.random(), is_found, None"
   ]
  },
  {
   "cell_type": "markdown",
   "id": "7348c0e5",
   "metadata": {},
   "source": [
    "---"
   ]
  }
 ],
 "metadata": {
  "kernelspec": {
   "display_name": "Python 3 (ipykernel)",
   "language": "python",
   "name": "python3"
  },
  "language_info": {
   "codemirror_mode": {
    "name": "ipython",
    "version": 3
   },
   "file_extension": ".py",
   "mimetype": "text/x-python",
   "name": "python",
   "nbconvert_exporter": "python",
   "pygments_lexer": "ipython3",
   "version": "3.11.4"
  }
 },
 "nbformat": 4,
 "nbformat_minor": 5
}
