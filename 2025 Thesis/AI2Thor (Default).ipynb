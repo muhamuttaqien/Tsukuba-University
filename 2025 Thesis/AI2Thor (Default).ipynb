{
 "cells": [
  {
   "cell_type": "code",
   "execution_count": 1,
   "id": "b08dc852",
   "metadata": {},
   "outputs": [],
   "source": [
    "import random\n",
    "import pandas as pd\n",
    "import matplotlib.pyplot as plt\n",
    "\n",
    "import ai2thor\n",
    "import ai2thor_colab\n",
    "from ai2thor_colab import plot_frames, side_by_side\n",
    "from ai2thor.controller import Controller\n",
    "\n",
    "from IPython.display import clear_output"
   ]
  },
  {
   "cell_type": "code",
   "execution_count": 2,
   "id": "1981a73a",
   "metadata": {},
   "outputs": [],
   "source": [
    "from ai2thor.platform import CloudRendering\n",
    "controller = Controller(platform=CloudRendering)"
   ]
  },
  {
   "cell_type": "markdown",
   "id": "bccb9762",
   "metadata": {},
   "source": [
    "## Workspace"
   ]
  },
  {
   "cell_type": "code",
   "execution_count": 3,
   "id": "ed666d9b",
   "metadata": {},
   "outputs": [],
   "source": [
    "def show_object_detected(controller):\n",
    "\n",
    "    data = controller.last_event.metadata['objects']\n",
    "\n",
    "    df_data = pd.DataFrame(data)\n",
    "\n",
    "    df_object = df_data[(df_data['name'] == 'Toaster_f745e839') | (df_data['name'] == 'CoffeeMachine_61ed6a3e') | \n",
    "                        (df_data['name'] == 'Microwave_e71f2758') | (df_data['name'] == 'Fridge_22a96a15') | \n",
    "                        (df_data['name'] == 'LightSwitch_43d10eaa')]\n",
    "    \n",
    "    print('Object detected:')\n",
    "    print(dict(df_object['name'][df_object['visible'] == True]))"
   ]
  },
  {
   "cell_type": "code",
   "execution_count": 4,
   "id": "d71b713c",
   "metadata": {},
   "outputs": [],
   "source": [
    "floor_index = random.randint(0, 30)\n",
    "floor_index = 20\n",
    "\n",
    "controller = Controller(\n",
    "    agentMode = \"default\", # arm\n",
    "    visibilityDistance = 0.75,\n",
    "    scene = f\"FloorPlan{floor_index}\",\n",
    "\n",
    "    # step sizes\n",
    "    gridSize = 0.25,\n",
    "    snapToGrid = True,\n",
    "    rotateStepDegrees = 90,\n",
    "\n",
    "    # image modalities\n",
    "    renderInstanceSegmentation = False,\n",
    "    renderDepthImage = False,\n",
    "    renderSemanticSegmentation = False,\n",
    "    renderNormalsImage = False,\n",
    "    \n",
    "    # camera properties\n",
    "    width = 1200,\n",
    "    height = 800,\n",
    "    fieldOfView = 120\n",
    ")"
   ]
  },
  {
   "cell_type": "code",
   "execution_count": 5,
   "id": "013a1f18",
   "metadata": {},
   "outputs": [],
   "source": [
    "w = \"MoveAhead\"\n",
    "a = \"MoveLeft\"\n",
    "s = \"MoveBack\"\n",
    "d = \"MoveRight\"\n",
    "\n",
    "l = \"RotateLeft\"\n",
    "r = \"RotateRight\""
   ]
  },
  {
   "cell_type": "code",
   "execution_count": 6,
   "id": "c6c908d5",
   "metadata": {},
   "outputs": [],
   "source": [
    "data = controller.last_event.metadata['objects']\n",
    "df_data = pd.DataFrame(data)"
   ]
  },
  {
   "cell_type": "code",
   "execution_count": null,
   "id": "d40e1615",
   "metadata": {},
   "outputs": [],
   "source": [
    "command = s\n",
    "\n",
    "event = controller.step(command)\n",
    "agent_position = event.metadata[\"agent\"][\"position\"]\n",
    "\n",
    "print(\"Agent position:\")\n",
    "print(agent_position)\n",
    "show_object_detected(controller)\n",
    "\n",
    "plot_frames(controller.last_event)"
   ]
  },
  {
   "cell_type": "markdown",
   "id": "a3e51663",
   "metadata": {},
   "source": [
    "---"
   ]
  },
  {
   "cell_type": "code",
   "execution_count": null,
   "id": "661be734",
   "metadata": {
    "scrolled": false
   },
   "outputs": [],
   "source": [
    "data = controller.last_event.metadata['objects']\n",
    "data"
   ]
  },
  {
   "cell_type": "code",
   "execution_count": null,
   "id": "89a3b388",
   "metadata": {},
   "outputs": [],
   "source": [
    "def encode_feedback(event, controller, target_name):\n",
    "    \n",
    "    agent_position = event.metadata[\"agent\"][\"position\"]\n",
    "    data = controller.last_event.metadata['objects']\n",
    "    \n",
    "    index_location = next((index for index, item in enumerate(data) if item['name'] == target_name), None)\n",
    "    is_found = data[index_location]['visible']\n",
    "    \n",
    "    if is_found:\n",
    "        reward = +10\n",
    "    else:\n",
    "        reward = -0.05\n",
    "    \n",
    "    return None, random.random(), is_found, None"
   ]
  },
  {
   "cell_type": "markdown",
   "id": "7348c0e5",
   "metadata": {},
   "source": [
    "---"
   ]
  }
 ],
 "metadata": {
  "kernelspec": {
   "display_name": "Python 3 (ipykernel)",
   "language": "python",
   "name": "python3"
  },
  "language_info": {
   "codemirror_mode": {
    "name": "ipython",
    "version": 3
   },
   "file_extension": ".py",
   "mimetype": "text/x-python",
   "name": "python",
   "nbconvert_exporter": "python",
   "pygments_lexer": "ipython3",
   "version": "3.11.4"
  }
 },
 "nbformat": 4,
 "nbformat_minor": 5
}
