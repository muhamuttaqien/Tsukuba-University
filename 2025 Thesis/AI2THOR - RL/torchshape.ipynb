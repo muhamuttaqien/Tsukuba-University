{
 "cells": [
  {
   "cell_type": "code",
   "execution_count": 1,
   "id": "a143f9c5",
   "metadata": {},
   "outputs": [],
   "source": [
    "import torch"
   ]
  },
  {
   "cell_type": "code",
   "execution_count": 2,
   "id": "2a9b56fd",
   "metadata": {},
   "outputs": [
    {
     "name": "stdout",
     "output_type": "stream",
     "text": [
      "torch.Size([32, 515])\n"
     ]
    }
   ],
   "source": [
    "# Create two tensors with shapes 32x512 and 32x3\n",
    "tensor1 = torch.randn(32, 512)\n",
    "tensor2 = torch.randn(32, 3)\n",
    "\n",
    "# Concatenate them along the first dimension\n",
    "result = torch.cat((tensor1, tensor2), dim=1)\n",
    "\n",
    "print(result.shape)  "
   ]
  },
  {
   "cell_type": "code",
   "execution_count": 3,
   "id": "6cc3f495",
   "metadata": {},
   "outputs": [
    {
     "data": {
      "text/plain": [
       "tensor([[ 0.9550, -0.2088, -0.8473,  ...,  1.8314, -1.2040, -0.3336],\n",
       "        [-1.0205, -0.5561,  1.0348,  ...,  0.3205,  0.9435,  1.0394],\n",
       "        [ 1.3318, -0.9218,  0.1681,  ...,  0.8462, -0.4026,  0.2363],\n",
       "        ...,\n",
       "        [ 1.0818, -0.2072, -0.6695,  ..., -0.1543,  0.3806, -0.7510],\n",
       "        [-1.2042, -0.7344, -0.4172,  ..., -0.3651, -0.4860,  1.5317],\n",
       "        [ 0.5519, -0.2554, -0.8888,  ...,  0.7293,  0.6808,  1.0912]])"
      ]
     },
     "execution_count": 3,
     "metadata": {},
     "output_type": "execute_result"
    }
   ],
   "source": [
    "result"
   ]
  },
  {
   "cell_type": "code",
   "execution_count": 1,
   "id": "c146beca",
   "metadata": {},
   "outputs": [],
   "source": [
    "import torch\n",
    "import matplotlib.pyplot as plt"
   ]
  },
  {
   "cell_type": "code",
   "execution_count": 7,
   "id": "b98a7c76",
   "metadata": {},
   "outputs": [
    {
     "data": {
      "image/png": "[encoded data removed]",
      "text/plain": [
       "<Figure size 1000x400 with 3 Axes>"
      ]
     },
     "metadata": {},
     "output_type": "display_data"
    }
   ],
   "source": [
    "# Create two tensors with shapes 2x4 and 2x2\n",
    "tensor1 = torch.tensor([[1, 2, 3, 4], [5, 6, 7, 8]])\n",
    "tensor2 = torch.tensor([[9, 10], [11, 12]])\n",
    "\n",
    "# Concatenate them along the second dimension (dim=1)\n",
    "result = torch.cat((tensor1, tensor2), dim=1)\n",
    "\n",
    "# Visualize the original tensors and the concatenated tensor\n",
    "fig, axs = plt.subplots(1, 3, figsize=(10, 4))\n",
    "\n",
    "# Plot tensor1\n",
    "axs[0].imshow(tensor1, cmap='Blues', vmin=0, vmax=12)\n",
    "axs[0].set_title('Tensor 1 (2x4)')\n",
    "axs[0].axis('off')\n",
    "\n",
    "# Plot tensor2\n",
    "axs[1].imshow(tensor2, cmap='Reds', vmin=0, vmax=12)\n",
    "axs[1].set_title('Tensor 2 (2x2)')\n",
    "axs[1].axis('off')\n",
    "\n",
    "# Plot the concatenated tensor (result)\n",
    "axs[2].imshow(result, cmap='Greens', vmin=0, vmax=12)\n",
    "axs[2].set_title('Concatenated Result (2x6)')\n",
    "\n",
    "# Show the plots\n",
    "plt.axis('off')\n",
    "plt.show()"
   ]
  },
  {
   "cell_type": "markdown",
   "id": "f5ae9089",
   "metadata": {},
   "source": [
    "---"
   ]
  }
 ],
 "metadata": {
  "kernelspec": {
   "display_name": "Python 3 (ipykernel)",
   "language": "python",
   "name": "python3"
  },
  "language_info": {
   "codemirror_mode": {
    "name": "ipython",
    "version": 3
   },
   "file_extension": ".py",
   "mimetype": "text/x-python",
   "name": "python",
   "nbconvert_exporter": "python",
   "pygments_lexer": "ipython3",
   "version": "3.10.9"
  }
 },
 "nbformat": 4,
 "nbformat_minor": 5
}
