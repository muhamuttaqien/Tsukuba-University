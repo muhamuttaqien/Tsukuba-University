{
 "cells": [
  {
   "cell_type": "code",
   "execution_count": 3,
   "id": "db5b9f9c",
   "metadata": {},
   "outputs": [
    {
     "ename": "AttributeError",
     "evalue": "'Event' object has no attribute 'features'",
     "output_type": "error",
     "traceback": [
      "\u001b[0;31m---------------------------------------------------------------------------\u001b[0m",
      "\u001b[0;31mAttributeError\u001b[0m                            Traceback (most recent call last)",
      "Cell \u001b[0;32mIn[3], line 53\u001b[0m\n\u001b[1;32m     51\u001b[0m \u001b[38;5;28;01melse\u001b[39;00m:\n\u001b[1;32m     52\u001b[0m     \u001b[38;5;28;01mwith\u001b[39;00m torch\u001b[38;5;241m.\u001b[39mno_grad():\n\u001b[0;32m---> 53\u001b[0m         state_tensor \u001b[38;5;241m=\u001b[39m torch\u001b[38;5;241m.\u001b[39mFloatTensor(state\u001b[38;5;241m.\u001b[39mfeatures)\n\u001b[1;32m     54\u001b[0m         action_values \u001b[38;5;241m=\u001b[39m policy_net(state_tensor)\n\u001b[1;32m     55\u001b[0m         action \u001b[38;5;241m=\u001b[39m action_space[action_values\u001b[38;5;241m.\u001b[39margmax()\u001b[38;5;241m.\u001b[39mitem()]\n",
      "\u001b[0;31mAttributeError\u001b[0m: 'Event' object has no attribute 'features'"
     ]
    }
   ],
   "source": [
    "import ai2thor.controller\n",
    "import random\n",
    "import numpy as np\n",
    "import torch\n",
    "import torch.nn as nn\n",
    "import torch.optim as optim\n",
    "\n",
    "# Define the AI2-THOR environment and DQN hyperparameters\n",
    "env = ai2thor.controller.Controller()\n",
    "action_space = [\"MoveAhead\", \"MoveLeft\", \"MoveRight\", \"MoveBack\", \"RotateLeft\", \"RotateRight\", \"OpenObject\", \"ToggleObjectOn\"]\n",
    "num_actions = len(action_space)\n",
    "state_size = 10  # Define the state size according to your specific task\n",
    "\n",
    "# Define a simple DQN model\n",
    "class DQN(nn.Module):\n",
    "    def __init__(self):\n",
    "        super(DQN, self).__init__()\n",
    "        self.fc1 = nn.Linear(state_size, 128)\n",
    "        self.fc2 = nn.Linear(128, 128)\n",
    "        self.fc3 = nn.Linear(128, num_actions)\n",
    "\n",
    "    def forward(self, x):\n",
    "        x = torch.relu(self.fc1(x))\n",
    "        x = torch.relu(self.fc2(x))\n",
    "        x = self.fc3(x)\n",
    "        return x\n",
    "\n",
    "# Initialize DQN model, target model, and optimizer\n",
    "policy_net = DQN()\n",
    "target_net = DQN()\n",
    "target_net.load_state_dict(policy_net.state_dict())\n",
    "target_net.eval()\n",
    "optimizer = optim.Adam(policy_net.parameters(), lr=0.001)\n",
    "\n",
    "# Define the DQN training parameters\n",
    "batch_size = 64\n",
    "gamma = 0.99\n",
    "epsilon = 0.1\n",
    "target_update = 10  # Update target network every 'target_update' steps\n",
    "max_steps = 1000  # Maximum number of steps per episode\n",
    "\n",
    "# Training loop\n",
    "for episode in range(1000):  # Change the number of episodes as needed\n",
    "    # env.start()\n",
    "    state = env.step(\"InitialRandomSpawn\")\n",
    "\n",
    "    for step in range(max_steps):\n",
    "        # Choose an action using epsilon-greedy policy\n",
    "        if random.random() < epsilon:\n",
    "            action = random.choice(action_space)\n",
    "        else:\n",
    "            with torch.no_grad():\n",
    "                state_tensor = torch.FloatTensor(state.features)\n",
    "                action_values = policy_net(state_tensor)\n",
    "                action = action_space[action_values.argmax().item()]\n",
    "\n",
    "        # Take the chosen action in the environment\n",
    "        next_state = env.step(action)\n",
    "        reward = next_state.metadata['reward']\n",
    "        done = next_state.metadata['lastActionSuccess']\n",
    "\n",
    "        # Store the transition in replay memory\n",
    "        # Implement your replay memory code here\n",
    "\n",
    "        # Perform a DQN update if there are enough samples in replay memory\n",
    "        # Implement your DQN update code here\n",
    "\n",
    "        state = next_state\n",
    "\n",
    "        # Update the target network if needed\n",
    "        if step % target_update == 0:\n",
    "            target_net.load_state_dict(policy_net.state_dict())\n",
    "\n",
    "    env.stop()\n",
    "\n",
    "# Save the trained DQN model if needed\n",
    "# torch.save(policy_net.state_dict(), 'dqn_model.pth')\n"
   ]
  },
  {
   "cell_type": "code",
   "execution_count": 6,
   "id": "729cb16b",
   "metadata": {},
   "outputs": [
    {
     "ename": "AttributeError",
     "evalue": "'Event' object has no attribute 'shape'",
     "output_type": "error",
     "traceback": [
      "\u001b[0;31m---------------------------------------------------------------------------\u001b[0m",
      "\u001b[0;31mAttributeError\u001b[0m                            Traceback (most recent call last)",
      "Cell \u001b[0;32mIn[6], line 2\u001b[0m\n\u001b[1;32m      1\u001b[0m state \u001b[38;5;241m=\u001b[39m env\u001b[38;5;241m.\u001b[39mstep(\u001b[38;5;124m\"\u001b[39m\u001b[38;5;124mInitialRandomSpawn\u001b[39m\u001b[38;5;124m\"\u001b[39m)\n\u001b[0;32m----> 2\u001b[0m \u001b[38;5;28mprint\u001b[39m(state\u001b[38;5;241m.\u001b[39mshape)\n\u001b[1;32m      4\u001b[0m plt\u001b[38;5;241m.\u001b[39mimshow(state[\u001b[38;5;241m0\u001b[39m,\u001b[38;5;241m0\u001b[39m])\n\u001b[1;32m      5\u001b[0m plt\u001b[38;5;241m.\u001b[39mshow()\n",
      "\u001b[0;31mAttributeError\u001b[0m: 'Event' object has no attribute 'shape'"
     ]
    }
   ],
   "source": [
    "state = env.step(\"InitialRandomSpawn\")\n",
    "print(state.shape)\n",
    "\n",
    "plt.imshow(state[0,0])\n",
    "plt.show()"
   ]
  },
  {
   "cell_type": "code",
   "execution_count": null,
   "id": "a3dc516c",
   "metadata": {},
   "outputs": [],
   "source": []
  },
  {
   "cell_type": "markdown",
   "id": "cec3259c",
   "metadata": {},
   "source": [
    "---"
   ]
  }
 ],
 "metadata": {
  "kernelspec": {
   "display_name": "Python [conda env:thesis] *",
   "language": "python",
   "name": "conda-env-thesis-py"
  },
  "language_info": {
   "codemirror_mode": {
    "name": "ipython",
    "version": 3
   },
   "file_extension": ".py",
   "mimetype": "text/x-python",
   "name": "python",
   "nbconvert_exporter": "python",
   "pygments_lexer": "ipython3",
   "version": "3.11.4"
  }
 },
 "nbformat": 4,
 "nbformat_minor": 5
}
