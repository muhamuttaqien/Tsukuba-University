{
 "cells": [
  {
   "cell_type": "code",
   "execution_count": 1,
   "id": "53c5785b",
   "metadata": {},
   "outputs": [],
   "source": [
    "import torch\n",
    "import torch.nn as nn\n",
    "import torch.nn.functional as F"
   ]
  },
  {
   "cell_type": "markdown",
   "id": "04df920c",
   "metadata": {},
   "source": [
    "## MMDQN with 3 FC Layers"
   ]
  },
  {
   "cell_type": "code",
   "execution_count": 2,
   "id": "dc5ec3ca",
   "metadata": {},
   "outputs": [],
   "source": [
    "class MultimodalDQN(nn.Module):\n",
    "    \n",
    "    def __init__(self, visual_model, text_model, action_size, num_objects, seed):\n",
    "        \n",
    "        super(MultimodalDQN, self).__init__()\n",
    "        \n",
    "        self.seed = torch.manual_seed(seed)\n",
    "        self.num_objects = num_objects\n",
    "        \n",
    "        self.visual_model = visual_model\n",
    "        self.text_model = text_model  \n",
    "        \n",
    "        # Add separate fully connected layers for each object\n",
    "        self.fc_switch = nn.Linear(visual_model.fc.out_features + text_model.fc.out_features, action_size)\n",
    "        self.fc_fridge = nn.Linear(visual_model.fc.out_features + text_model.fc.out_features, action_size)\n",
    "        self.fc_door = nn.Linear(visual_model.fc.out_features + text_model.fc.out_features, action_size)\n",
    "        \n",
    "    def forward(self, visual_input, text_input):\n",
    "        \n",
    "        visual_features = self.visual_model(visual_input.to(device))\n",
    "        text_features = self.text_model(text_input.to(device))\n",
    "        \n",
    "        # Combine visual and text features\n",
    "        combined_features = torch.cat((visual_features, text_features), dim=1)\n",
    "        \n",
    "        # Forward pass for each object head\n",
    "        q_values_switch = self.fc_switch(combined_features)\n",
    "        q_values_fridge = self.fc_fridge(combined_features)\n",
    "        q_values_door = self.fc_door(combined_features)\n",
    "        \n",
    "        return q_values_switch, q_values_fridge, q_values_door"
   ]
  },
  {
   "cell_type": "markdown",
   "id": "dd1b7cbf",
   "metadata": {},
   "source": [
    "## MMDQN with Attention Weights"
   ]
  },
  {
   "cell_type": "code",
   "execution_count": 3,
   "id": "46fdc4b6",
   "metadata": {},
   "outputs": [],
   "source": [
    "class MultimodalDQN(nn.Module):\n",
    "    \n",
    "    def __init__(self, visual_model, text_model, action_size, num_objects, seed):\n",
    "        \n",
    "        super(MultimodalDQN, self).__init__()\n",
    "        \n",
    "        self.seed = torch.manual_seed(seed)\n",
    "        self.num_objects = num_objects\n",
    "        \n",
    "        self.visual_model = visual_model\n",
    "        self.text_model = text_model  \n",
    "        \n",
    "        # Add separate fully connected layers for each object\n",
    "        self.fc_switch = nn.Linear(visual_model.fc.out_features + text_model.fc.out_features, action_size)\n",
    "        self.fc_fridge = nn.Linear(visual_model.fc.out_features + text_model.fc.out_features, action_size)\n",
    "        self.fc_door = nn.Linear(visual_model.fc.out_features + text_model.fc.out_features, action_size)\n",
    "        \n",
    "        # Add an embedding layer for the instruction\n",
    "        self.embedding = nn.Embedding(num_objects, embedding_dim)\n",
    "        \n",
    "    def forward(self, visual_input, text_input, instruction):\n",
    "        \n",
    "        visual_features = self.visual_model(visual_input.to(device))\n",
    "        text_features = self.text_model(text_input.to(device))\n",
    "        \n",
    "        # Combine visual and text features\n",
    "        combined_features = torch.cat((visual_features, text_features), dim=1)\n",
    "        \n",
    "        # Forward pass for each object head\n",
    "        q_values_switch = self.fc_switch(combined_features)\n",
    "        q_values_fridge = self.fc_fridge(combined_features)\n",
    "        q_values_door = self.fc_door(combined_features)\n",
    "        \n",
    "        # Apply attention based on the instruction\n",
    "        attention_weights = F.softmax(self.get_attention_weights(instruction), dim=1)\n",
    "        \n",
    "        # Combine the Q-values with attention\n",
    "        q_values_combined = attention_weights[:, 0].view(-1, 1) * q_values_switch + \\\n",
    "                            attention_weights[:, 1].view(-1, 1) * q_values_fridge + \\\n",
    "                            attention_weights[:, 2].view(-1, 1) * q_values_door\n",
    "        \n",
    "        return q_values_combined\n",
    "    \n",
    "    def get_attention_weights(self, instruction):\n",
    "        \n",
    "        # Implement a mechanism to compute attention weights based on the instruction\n",
    "        # This can be a simple lookup in a learned embedding or a more complex attention mechanism\n",
    "        # For simplicity, here's a placeholder that assumes the instruction is a one-hot encoded vector\n",
    "        embedded_instruction = self.embedding(instruction)\n",
    "        attention_weights = F.softmax(embedded_instruction, dim=1)\n",
    "        \n",
    "        return attention_weights"
   ]
  },
  {
   "cell_type": "markdown",
   "id": "676c47ab",
   "metadata": {},
   "source": [
    "---"
   ]
  }
 ],
 "metadata": {
  "kernelspec": {
   "display_name": "Python 3 (ipykernel)",
   "language": "python",
   "name": "python3"
  },
  "language_info": {
   "codemirror_mode": {
    "name": "ipython",
    "version": 3
   },
   "file_extension": ".py",
   "mimetype": "text/x-python",
   "name": "python",
   "nbconvert_exporter": "python",
   "pygments_lexer": "ipython3",
   "version": "3.10.9"
  }
 },
 "nbformat": 4,
 "nbformat_minor": 5
}
