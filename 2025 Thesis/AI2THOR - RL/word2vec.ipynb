{
 "cells": [
  {
   "cell_type": "code",
   "execution_count": 1,
   "id": "41f2e876",
   "metadata": {},
   "outputs": [],
   "source": [
    "from gensim.models import Word2Vec, KeyedVectors\n",
    "from gensim.scripts.glove2word2vec import glove2word2vec"
   ]
  },
  {
   "cell_type": "code",
   "execution_count": 2,
   "id": "e8348a5b",
   "metadata": {},
   "outputs": [
    {
     "name": "stderr",
     "output_type": "stream",
     "text": [
      "/tmp/ipykernel_5111/3840209020.py:4: DeprecationWarning: Call to deprecated `glove2word2vec` (KeyedVectors.load_word2vec_format(.., binary=False, no_header=True) loads GLoVE text vectors.).\n",
      "  glove2word2vec(glove_input_file, word2vec_output_file)\n"
     ]
    }
   ],
   "source": [
    "glove_input_file = 'weights/glove.6B.100d.txt'\n",
    "word2vec_output_file = 'weights/glove.6B.100d.txt.word2vec'\n",
    "\n",
    "glove2word2vec(glove_input_file, word2vec_output_file)\n",
    "word2vec_model = KeyedVectors.load_word2vec_format(word2vec_output_file, binary=False)"
   ]
  },
  {
   "cell_type": "code",
   "execution_count": 3,
   "id": "a7c69731",
   "metadata": {},
   "outputs": [
    {
     "data": {
      "text/plain": [
       "array([-0.0056599,  0.48093  , -0.14616  , -0.10684  ,  0.12797  ,\n",
       "       -0.29327  ,  0.15397  ,  0.4191   , -0.58453  , -0.088162 ,\n",
       "        0.27013  , -0.69782  ,  0.29598  ,  0.14664  ,  0.77393  ,\n",
       "       -0.75405  , -0.11047  , -0.19993  ,  0.83441  , -0.53362  ,\n",
       "        0.34134  , -0.9155   , -0.21002  , -0.49838  ,  0.36329  ,\n",
       "        0.7514   ,  0.22431  ,  0.04994  ,  0.012989 ,  0.051351 ,\n",
       "       -0.14929  , -0.21221  , -0.69389  ,  0.093702 , -0.10146  ,\n",
       "        0.21403  ,  0.01517  , -0.14939  ,  0.64563  ,  0.30255  ,\n",
       "       -0.20183  , -0.98301  , -0.38305  , -0.57751  ,  0.078482 ,\n",
       "        0.030849 ,  0.081878 ,  0.24994  ,  0.44382  , -0.98154  ,\n",
       "        0.56714  ,  0.18749  ,  0.2845   ,  1.2965   ,  0.19276  ,\n",
       "       -2.2519   ,  0.26194  ,  0.65768  ,  1.7942   , -0.44349  ,\n",
       "        0.16919  ,  1.1139   , -0.68078  ,  0.70165  ,  0.46019  ,\n",
       "       -0.12534  ,  0.39811  , -0.52397  , -0.26948  , -0.25137  ,\n",
       "        0.40307  , -0.77727  ,  0.75149  ,  0.11749  ,  0.71586  ,\n",
       "        0.093419 ,  0.48623  , -0.38571  , -0.52273  ,  0.0262   ,\n",
       "        0.36807  , -0.23592  , -0.44907  ,  0.74124  , -0.86128  ,\n",
       "       -0.24825  , -0.035082 , -0.23826  ,  0.99372  ,  0.017017 ,\n",
       "        0.081135 , -0.46585  , -0.633    ,  0.20323  , -0.73547  ,\n",
       "        0.37258  , -0.82113  , -0.41709  ,  0.23435  , -0.40221  ],\n",
       "      dtype=float32)"
      ]
     },
     "execution_count": 3,
     "metadata": {},
     "output_type": "execute_result"
    }
   ],
   "source": [
    "embedding_vector = word2vec_model['light']\n",
    "embedding_vector"
   ]
  },
  {
   "cell_type": "code",
   "execution_count": 11,
   "id": "f397312c",
   "metadata": {},
   "outputs": [
    {
     "data": {
      "text/plain": [
       "True"
      ]
     },
     "execution_count": 11,
     "metadata": {},
     "output_type": "execute_result"
    }
   ],
   "source": [
    "i = word2vec_model.key_to_index[\"light\"]\n",
    "word2vec_model.index_to_key[i] == word  # will be true"
   ]
  },
  {
   "cell_type": "code",
   "execution_count": 4,
   "id": "cf4e7b67",
   "metadata": {},
   "outputs": [
    {
     "name": "stdout",
     "output_type": "stream",
     "text": [
      "Similarity between 'switch' and 'control': 0.7035229802131653\n"
     ]
    }
   ],
   "source": [
    "similarity_score = word2vec_model.similarity(\"find\", \"discover\")\n",
    "print(f\"Similarity between 'switch' and 'control': {similarity_score}\")"
   ]
  },
  {
   "cell_type": "markdown",
   "id": "ec5ce8be",
   "metadata": {},
   "source": [
    "---"
   ]
  }
 ],
 "metadata": {
  "kernelspec": {
   "display_name": "Python 3 (ipykernel)",
   "language": "python",
   "name": "python3"
  },
  "language_info": {
   "codemirror_mode": {
    "name": "ipython",
    "version": 3
   },
   "file_extension": ".py",
   "mimetype": "text/x-python",
   "name": "python",
   "nbconvert_exporter": "python",
   "pygments_lexer": "ipython3",
   "version": "3.10.9"
  }
 },
 "nbformat": 4,
 "nbformat_minor": 5
}
