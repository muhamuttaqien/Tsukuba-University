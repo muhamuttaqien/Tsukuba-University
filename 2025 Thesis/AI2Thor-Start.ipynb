{
 "cells": [
  {
   "cell_type": "code",
   "execution_count": null,
   "id": "440753ca",
   "metadata": {},
   "outputs": [],
   "source": [
    "import random\n",
    "from ai2thor.controller import Controller"
   ]
  },
  {
   "cell_type": "markdown",
   "id": "57cc88db",
   "metadata": {},
   "source": [
    "## Init Simulator"
   ]
  },
  {
   "cell_type": "code",
   "execution_count": null,
   "id": "cf851395",
   "metadata": {},
   "outputs": [],
   "source": [
    "controller = Controller(\n",
    "    agentMode = \"default\",\n",
    "    visibilityDistance = 0.75,\n",
    "    scene = f\"FloorPlan1\",\n",
    "\n",
    "    # step sizes\n",
    "    gridSize = 0.25,\n",
    "    snapToGrid = True,\n",
    "    rotateStepDegrees = 90,\n",
    "\n",
    "    # image modalities\n",
    "    renderInstanceSegmentation = False,\n",
    "    renderDepthImage = False,\n",
    "    renderSemanticSegmentation = False,\n",
    "    renderNormalsImage = False,\n",
    "    \n",
    "    # camera properties\n",
    "    width = 1200,\n",
    "    height = 800,\n",
    "    fieldOfView = 120\n",
    ")"
   ]
  },
  {
   "cell_type": "markdown",
   "id": "edec1f10",
   "metadata": {},
   "source": [
    "## Randomize Agent Location"
   ]
  },
  {
   "cell_type": "code",
   "execution_count": null,
   "id": "71a2c821",
   "metadata": {},
   "outputs": [],
   "source": [
    "positions = controller.step(\n",
    "    action=\"GetReachablePositions\"\n",
    ").metadata[\"actionReturn\"]\n",
    "\n",
    "position = random.choice(positions)\n",
    "controller.step(\n",
    "    action=\"Teleport\",\n",
    "    position=position,\n",
    "    rotation=dict(x=0, y=270, z=0),\n",
    "    horizon=0,\n",
    "    standing=True\n",
    ")\n",
    "\n",
    "print(\"Teleported!\")"
   ]
  },
  {
   "cell_type": "markdown",
   "id": "80976a89",
   "metadata": {},
   "source": [
    "## Randomize Object Location"
   ]
  },
  {
   "cell_type": "code",
   "execution_count": null,
   "id": "7557c131",
   "metadata": {},
   "outputs": [],
   "source": [
    "controller.step(\n",
    "    action=\"InitialRandomSpawn\",\n",
    "    randomSeed=0,\n",
    "    forceVisible=True,\n",
    "    numPlacementAttempts=1,\n",
    "    placeStationary=True\n",
    ")\n",
    "\n",
    "print(\"Randomized!\")"
   ]
  },
  {
   "cell_type": "code",
   "execution_count": null,
   "id": "5a604433",
   "metadata": {},
   "outputs": [],
   "source": [
    "# Close the controller when done\n",
    "controller.stop()"
   ]
  },
  {
   "cell_type": "markdown",
   "id": "12627934",
   "metadata": {},
   "source": [
    "---"
   ]
  }
 ],
 "metadata": {
  "kernelspec": {
   "display_name": "Python 3 (ipykernel)",
   "language": "python",
   "name": "python3"
  },
  "language_info": {
   "codemirror_mode": {
    "name": "ipython",
    "version": 3
   },
   "file_extension": ".py",
   "mimetype": "text/x-python",
   "name": "python",
   "nbconvert_exporter": "python",
   "pygments_lexer": "ipython3",
   "version": "3.11.4"
  }
 },
 "nbformat": 4,
 "nbformat_minor": 5
}
