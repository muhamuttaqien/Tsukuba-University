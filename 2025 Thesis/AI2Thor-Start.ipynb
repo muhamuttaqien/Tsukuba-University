{
 "cells": [
  {
   "cell_type": "code",
   "execution_count": 1,
   "id": "440753ca",
   "metadata": {},
   "outputs": [],
   "source": [
    "import ai2thor.controller\n",
    "import random"
   ]
  },
  {
   "cell_type": "code",
   "execution_count": 2,
   "id": "611f783c",
   "metadata": {},
   "outputs": [
    {
     "data": {
      "text/plain": [
       "<ai2thor.server.Event at 0x7fdcf7e55bd0\n",
       "    .metadata[\"lastAction\"] = Initialize\n",
       "    .metadata[\"lastActionSuccess\"] = True\n",
       "    .metadata[\"errorMessage\"] = \"\n",
       "    .metadata[\"actionReturn\"] = {'cameraNearPlane': 0.009999999776482582, 'cameraFarPlane': 20.0}\n",
       ">"
      ]
     },
     "execution_count": 2,
     "metadata": {},
     "output_type": "execute_result"
    }
   ],
   "source": [
    "# Create an AI2-THOR controller\n",
    "controller = ai2thor.controller.Controller()\n",
    "\n",
    "# Reset the scene to a specific floor plan\n",
    "controller.reset(\"FloorPlan1\")"
   ]
  },
  {
   "cell_type": "code",
   "execution_count": 3,
   "id": "0b021dd1",
   "metadata": {},
   "outputs": [
    {
     "data": {
      "text/plain": [
       "<ai2thor.server.Event at 0x7fdcf7d57010\n",
       "    .metadata[\"lastAction\"] = Teleport\n",
       "    .metadata[\"lastActionSuccess\"] = True\n",
       "    .metadata[\"errorMessage\"] = \"\n",
       "    .metadata[\"actionReturn\"] = None\n",
       ">"
      ]
     },
     "execution_count": 3,
     "metadata": {},
     "output_type": "execute_result"
    }
   ],
   "source": [
    "initial_position = {\"x\": 1, \"y\": 0.9, \"z\": -1.5}\n",
    "initial_rotation = {\"x\": 0, \"y\": 270, \"z\": 0}\n",
    "\n",
    "# Set the agent's initial position and rotation using the \"Teleport\" action\n",
    "controller.step(\n",
    "    action=\"Teleport\",\n",
    "    x=initial_position[\"x\"],\n",
    "    y=initial_position[\"y\"],\n",
    "    z=initial_position[\"z\"],\n",
    "    rotation=initial_rotation,\n",
    "    horizon=0,\n",
    "    standing=True,\n",
    "    forceAction=True\n",
    ")"
   ]
  },
  {
   "cell_type": "code",
   "execution_count": 4,
   "id": "0722962b",
   "metadata": {},
   "outputs": [],
   "source": [
    "# Close the controller when done\n",
    "controller.stop()"
   ]
  },
  {
   "cell_type": "markdown",
   "id": "12627934",
   "metadata": {},
   "source": [
    "---"
   ]
  }
 ],
 "metadata": {
  "kernelspec": {
   "display_name": "Python [conda env:thesis] *",
   "language": "python",
   "name": "conda-env-thesis-py"
  },
  "language_info": {
   "codemirror_mode": {
    "name": "ipython",
    "version": 3
   },
   "file_extension": ".py",
   "mimetype": "text/x-python",
   "name": "python",
   "nbconvert_exporter": "python",
   "pygments_lexer": "ipython3",
   "version": "3.11.4"
  }
 },
 "nbformat": 4,
 "nbformat_minor": 5
}
