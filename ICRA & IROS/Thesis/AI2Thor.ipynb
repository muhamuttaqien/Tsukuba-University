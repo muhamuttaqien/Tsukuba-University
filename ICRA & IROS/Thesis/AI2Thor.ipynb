{
 "cells": [
  {
   "cell_type": "code",
   "execution_count": null,
   "id": "f237de26",
   "metadata": {},
   "outputs": [],
   "source": [
    "import random\n",
    "import ai2thor\n",
    "import ai2thor_colab\n",
    "\n",
    "from ai2thor_colab import plot_frames\n",
    "from ai2thor.controller import Controller\n",
    "\n",
    "from IPython.display import clear_output"
   ]
  },
  {
   "cell_type": "code",
   "execution_count": null,
   "id": "a57ce958",
   "metadata": {},
   "outputs": [],
   "source": [
    "from ai2thor.platform import CloudRendering\n",
    "controller = Controller(platform=CloudRendering)"
   ]
  },
  {
   "cell_type": "markdown",
   "id": "36cc09a5",
   "metadata": {},
   "source": [
    "## Workspace"
   ]
  },
  {
   "cell_type": "code",
   "execution_count": null,
   "id": "5822333e",
   "metadata": {},
   "outputs": [],
   "source": [
    "floor_index = random.randint(0, 30)\n",
    "floor_index = 26\n",
    "\n",
    "controller = Controller(\n",
    "    agentMode = \"default\", # arm\n",
    "    visibilityDistance = 1.5,\n",
    "    scene = f\"FloorPlan{floor_index}\",\n",
    "\n",
    "    # step sizes\n",
    "    gridSize = 0.25,\n",
    "    snapToGrid = True,\n",
    "    rotateStepDegrees = 90,\n",
    "\n",
    "    # image modalities\n",
    "    renderInstanceSegmentation = True,\n",
    "    renderDepthImage = True,\n",
    "    renderSemanticSegmentation = True,\n",
    "    renderNormalsImage = True,\n",
    "    \n",
    "    # camera properties\n",
    "    width = 1200,\n",
    "    height = 800,\n",
    "    fieldOfView = 120\n",
    ")\n",
    "\n",
    "plot_frames(controller.last_event)"
   ]
  },
  {
   "cell_type": "code",
   "execution_count": null,
   "id": "762cdee4",
   "metadata": {},
   "outputs": [],
   "source": [
    "import pandas as pd\n",
    "\n",
    "data = controller.last_event.metadata['objects']\n",
    "\n",
    "df_data = pd.DataFrame(data)"
   ]
  },
  {
   "cell_type": "code",
   "execution_count": null,
   "id": "1b67e869",
   "metadata": {},
   "outputs": [],
   "source": [
    "action_space = [\"MoveAhead\", \"MoveLeft\", \"MoveRight\", \"MoveBack\", \"RotateLeft\", \"RotateRight\"]\n",
    "\n",
    "while True: \n",
    "    random_index = random.randint(0, 5)\n",
    "    \n",
    "    clear_output(wait=True)\n",
    "    print(\"Action:\", action_space[random_index])\n",
    "    \n",
    "    controller.step(\n",
    "        action = action_space[random_index]\n",
    "    )"
   ]
  },
  {
   "cell_type": "markdown",
   "id": "ada38b45",
   "metadata": {},
   "source": [
    "---"
   ]
  }
 ],
 "metadata": {
  "kernelspec": {
   "display_name": "Python 3 (ipykernel)",
   "language": "python",
   "name": "python3"
  },
  "language_info": {
   "codemirror_mode": {
    "name": "ipython",
    "version": 3
   },
   "file_extension": ".py",
   "mimetype": "text/x-python",
   "name": "python",
   "nbconvert_exporter": "python",
   "pygments_lexer": "ipython3",
   "version": "3.10.9"
  }
 },
 "nbformat": 4,
 "nbformat_minor": 5
}
