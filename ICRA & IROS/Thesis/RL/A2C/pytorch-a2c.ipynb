{
 "cells": [
  {
   "cell_type": "markdown",
   "metadata": {},
   "source": [
    "# A2C, Advantage Actor Critic"
   ]
  },
  {
   "cell_type": "code",
   "execution_count": 1,
   "metadata": {},
   "outputs": [],
   "source": [
    "import os\n",
    "import numpy as np\n",
    "import matplotlib.pyplot as plt\n",
    "\n",
    "from collections import namedtuple, deque"
   ]
  },
  {
   "cell_type": "code",
   "execution_count": 2,
   "metadata": {},
   "outputs": [],
   "source": [
    "import gym\n",
    "import torch\n",
    "import torch.nn as nn\n",
    "import torch.nn.functional as F\n",
    "import torch.optim as optim\n",
    "from torch.distributions import Categorical"
   ]
  },
  {
   "cell_type": "code",
   "execution_count": 3,
   "metadata": {},
   "outputs": [],
   "source": [
    "from model import PolicyNetwork, ValueNetwork, HybridNetwork"
   ]
  },
  {
   "cell_type": "code",
   "execution_count": 4,
   "metadata": {},
   "outputs": [],
   "source": [
    "plt.style.use('ggplot')"
   ]
  },
  {
   "cell_type": "markdown",
   "metadata": {},
   "source": [
    "## Set Configs"
   ]
  },
  {
   "cell_type": "code",
   "execution_count": 5,
   "metadata": {},
   "outputs": [],
   "source": [
    "is_cuda = torch.cuda.is_available()\n",
    "\n",
    "if is_cuda: device = torch.device('cuda')\n",
    "else: device = torch.device('cpu')"
   ]
  },
  {
   "cell_type": "code",
   "execution_count": 6,
   "metadata": {},
   "outputs": [],
   "source": [
    "GAMMA = 0.99\n",
    "LR = 1e-4\n",
    "PRINT_EVERY = 100"
   ]
  },
  {
   "cell_type": "markdown",
   "metadata": {},
   "source": [
    "## Set Environment"
   ]
  },
  {
   "cell_type": "code",
   "execution_count": 7,
   "metadata": {},
   "outputs": [],
   "source": [
    "ENV_NAME = 'CartPole-v0'\n",
    "env = gym.make(ENV_NAME).unwrapped; env.seed(90);"
   ]
  },
  {
   "cell_type": "code",
   "execution_count": 8,
   "metadata": {},
   "outputs": [
    {
     "name": "stdout",
     "output_type": "stream",
     "text": [
      "Environment Display:\n",
      "State space Box([-4.8000002e+00 -3.4028235e+38 -4.1887903e-01 -3.4028235e+38], [4.8000002e+00 3.4028235e+38 4.1887903e-01 3.4028235e+38], (4,), float32)\n",
      "Action space Discrete(2)\n"
     ]
    }
   ],
   "source": [
    "print('Environment Display:')\n",
    "env.reset() # reset environment to a new, random state\n",
    "env.render()\n",
    "\n",
    "print('State space {}'.format(env.observation_space))\n",
    "print('Action space {}'.format(env.action_space))"
   ]
  },
  {
   "cell_type": "markdown",
   "metadata": {},
   "source": [
    "## Define [A2C](https://arxiv.org/pdf/1602.01783.pdf) Agent"
   ]
  },
  {
   "cell_type": "code",
   "execution_count": 9,
   "metadata": {},
   "outputs": [],
   "source": [
    "class A2CAgent():\n",
    "    \n",
    "    def __init__(self, env, seed):\n",
    "        \n",
    "        self.env = env\n",
    "        self.state_size = env.observation_space.shape[0]\n",
    "        self.hidden_size = 256\n",
    "        self.action_size = env.action_space.n\n",
    "        \n",
    "        self.gamma = GAMMA\n",
    "        self.lr = LR\n",
    "        \n",
    "        # initialize actor and critic networks\n",
    "        self.actor = PolicyNetwork(self.state_size, self.hidden_size, self.action_size, seed).to(device)\n",
    "        self.critic = ValueNetwork(self.state_size, self.hidden_size, 1, seed).to(device)\n",
    "        \n",
    "        self.actor_optimizer = optim.Adam(self.actor.parameters(), lr=self.lr)\n",
    "        self.critic_optimizer = optim.Adam(self.critic.parameters(), lr=self.lr)\n",
    "        \n",
    "    def act(self, state):\n",
    "        \n",
    "        state = torch.FloatTensor(state).to(device)\n",
    "        probs = self.actor(state)\n",
    "        m = Categorical(probs)\n",
    "        \n",
    "        action = m.sample()\n",
    "        \n",
    "        return action.cpu().detach().item()\n",
    "    \n",
    "    def learn(self, trajectory):\n",
    "        \n",
    "        policy_loss, value_loss = self.compute_loss(trajectory)\n",
    "        \n",
    "        self.actor_optimizer.zero_grad()\n",
    "        policy_loss.backward()\n",
    "        self.actor_optimizer.step()\n",
    "        \n",
    "        self.critic_optimizer.zero_grad()\n",
    "        value_loss.backward()\n",
    "        self.critic_optimizer.step()\n",
    "        \n",
    "        return policy_loss, value_loss\n",
    "    \n",
    "    def compute_loss(self, trajectory):\n",
    "        \n",
    "        states = torch.FloatTensor([sarsd[0] for sarsd in trajectory])\n",
    "        states = states.to(device)\n",
    "        \n",
    "        actions = torch.LongTensor([sarsd[1] for sarsd in trajectory]).view(-1, 1)\n",
    "        actions = actions.to(device)\n",
    "        \n",
    "        rewards = torch.FloatTensor([sarsd[2] for sarsd in trajectory])\n",
    "        rewards = rewards.to(device)\n",
    "        \n",
    "        next_states = torch.FloatTensor([sarsd[3] for sarsd in trajectory])\n",
    "        next_states = next_states.to(device)\n",
    "        \n",
    "        dones = torch.FloatTensor([sarsd[4] for sarsd in trajectory]).float().view(-1, 1)\n",
    "        dones = dones.to(device)\n",
    "        \n",
    "        # compute value target\n",
    "        discounted_rewards = [torch.sum(torch.FloatTensor([self.gamma**i for i in \\\n",
    "                              range(rewards[j:].size(0))]) * rewards[j:]) for j in range(rewards.size(0))]\n",
    "        \n",
    "        # rewards plus next state values\n",
    "        rewards = rewards.view(-1, 1) + torch.FloatTensor(discounted_rewards).view(-1, 1).to(device)\n",
    "        \n",
    "        # compute value loss\n",
    "        state_values = self.critic(states)\n",
    "        value_loss = F.mse_loss(rewards.detach(), state_values)\n",
    "        \n",
    "        # compute policy loss with entropy bonus\n",
    "        probs = self.actor(states)\n",
    "        m = Categorical(probs)\n",
    "        \n",
    "        # compute entropy bonus\n",
    "        dist_entropy = []\n",
    "        for prob in probs:\n",
    "            dist_entropy.append(-torch.sum(prob.mean() * torch.log(prob)))\n",
    "        dist_entropy = torch.stack(dist_entropy).sum()\n",
    "        \n",
    "        # compute advantage function to calculate the extra reward get by agent and to avoid high variability\n",
    "        advantages = rewards - state_values # TD estimate as a baseline\n",
    "        policy_loss = -m.log_prob(actions.view(actions.size(0))).view(-1, 1) * advantages.detach()\n",
    "        policy_loss = policy_loss.mean() - 0.001 * dist_entropy\n",
    "        \n",
    "        return policy_loss, value_loss\n",
    "    \n",
    "    def save(self, actor_path, critic_path):\n",
    "        \n",
    "        if not os.path.exists('./agents/'): os.makedirs('./agents/')\n",
    "        torch.save(self.actor.state_dict(), actor_path); torch.save(self.critic.state_dict(), critic_path)\n",
    "        \n",
    "    def watch(self, num_episodes):\n",
    "        \n",
    "        for i_episode in range(1, num_episodes+1):\n",
    "    \n",
    "            state = env.reset()\n",
    "            rewards = []\n",
    "            for time_step in range(1000):\n",
    "\n",
    "                env.render() # render the screen\n",
    "\n",
    "                action = self.act(state) # select an action\n",
    "                next_state, reward, done, _ = env.step(action)\n",
    "\n",
    "                state = next_state\n",
    "                rewards.append(reward)\n",
    "                if done:\n",
    "                    break\n",
    "\n",
    "            print(f'\\rEpisode: {i_episode}, Average Score: {sum(rewards):.2f}')\n",
    "\n",
    "        env.close()"
   ]
  },
  {
   "cell_type": "code",
   "execution_count": 10,
   "metadata": {},
   "outputs": [],
   "source": [
    "agent = A2CAgent(env, seed=90)"
   ]
  },
  {
   "cell_type": "markdown",
   "metadata": {},
   "source": [
    "## Train The Agent"
   ]
  },
  {
   "cell_type": "code",
   "execution_count": 11,
   "metadata": {},
   "outputs": [],
   "source": [
    "def train_agent(num_episodes=1000, max_time=5000):\n",
    "    \n",
    "    scores = []\n",
    "    policy_loss_plot = []; value_loss_plot = []\n",
    "    scores_window = deque(maxlen=100)\n",
    "    \n",
    "    for i_episode in range(1, num_episodes+1):\n",
    "        \n",
    "        state = env.reset()\n",
    "        score = 0\n",
    "        \n",
    "        trajectory = []\n",
    "        \n",
    "        for time_step in range(max_time):\n",
    "            action = agent.act(state)\n",
    "            next_state, reward, done, _ = env.step(action)\n",
    "            trajectory.append([state, action, reward, next_state, done])\n",
    "            \n",
    "            state = next_state\n",
    "            score += reward\n",
    "            if done:\n",
    "                break\n",
    "                \n",
    "        scores_window.append(score)\n",
    "        scores.append(score)\n",
    "        \n",
    "        policy_loss, value_loss = agent.learn(trajectory)\n",
    "        policy_loss_plot.append(policy_loss); value_loss_plot.append(value_loss)\n",
    "        \n",
    "        print(f'\\rEpisode: {i_episode}, Average Score: {np.mean(scores_window):.2f}, Policy Loss: {policy_loss:2f}, Value Loss: {value_loss:2f}', end='')\n",
    "        \n",
    "        if i_episode % PRINT_EVERY == 0:\n",
    "            print(f'\\rEpisode: {i_episode}, Average Score: {np.mean(scores_window):.2f}, Policy Loss: {policy_loss:2f}, Value Loss: {value_loss:2f}')\n",
    "        if np.mean(scores_window) >= 100.0:\n",
    "            print(f'\\nEnvironment solved in {i_episode-100:d} episodes! Average Score: {np.mean(scores_window):.2f}, Policy Loss: {policy_loss:2f}, Value Loss: {value_loss:2f}')\n",
    "            break\n",
    "            \n",
    "    agent.save(f'./agents/ACTOR_{ENV_NAME}.pth', f'./agents/CRITIC_{ENV_NAME}.pth')\n",
    "    print('Training completed.')\n",
    "    \n",
    "    return scores, policy_loss_plot, value_loss_plot"
   ]
  },
  {
   "cell_type": "code",
   "execution_count": 12,
   "metadata": {},
   "outputs": [
    {
     "name": "stdout",
     "output_type": "stream",
     "text": [
      "\r",
      "Episode: 1, Average Score: 17.00, Policy Loss: 6.773839, Value Loss: 117.626534\r",
      "Episode: 2, Average Score: 23.00, Policy Loss: 10.342864, Value Loss: 278.627625\r",
      "Episode: 3, Average Score: 18.67, Policy Loss: 4.512462, Value Loss: 51.982635\r",
      "Episode: 4, Average Score: 20.00, Policy Loss: 8.914032, Value Loss: 204.525833\r",
      "Episode: 5, Average Score: 19.00, Policy Loss: 6.107042, Value Loss: 96.139305\r",
      "Episode: 6, Average Score: 19.50, Policy Loss: 8.286136, Value Loss: 178.497665\r",
      "Episode: 7, Average Score: 18.43, Policy Loss: 5.100564, Value Loss: 67.859009\r",
      "Episode: 8, Average Score: 17.62, Policy Loss: 5.071589, Value Loss: 67.913857\r",
      "Episode: 9, Average Score: 18.11, Policy Loss: 8.188816, Value Loss: 177.020737\r",
      "Episode: 10, Average Score: 18.30, Policy Loss: 7.600410, Value Loss: 151.788239\r",
      "Episode: 11, Average Score: 20.73, Policy Loss: 14.518399, Value Loss: 560.396301\r",
      "Episode: 12, Average Score: 20.00, Policy Loss: 5.157081, Value Loss: 68.456322\r",
      "Episode: 13, Average Score: 19.77, Policy Loss: 6.626079, Value Loss: 116.508408"
     ]
    },
    {
     "name": "stderr",
     "output_type": "stream",
     "text": [
      "/tmp/ipykernel_48371/3289405968.py:46: UserWarning: Creating a tensor from a list of numpy.ndarrays is extremely slow. Please consider converting the list to a single numpy.ndarray with numpy.array() before converting to a tensor. (Triggered internally at /croot/pytorch_1681837265408/work/torch/csrc/utils/tensor_new.cpp:230.)\n",
      "  states = torch.FloatTensor([sarsd[0] for sarsd in trajectory])\n"
     ]
    },
    {
     "name": "stdout",
     "output_type": "stream",
     "text": [
      "Episode: 100, Average Score: 28.83, Policy Loss: 7.052522, Value Loss: 144.7487340\n",
      "Episode: 200, Average Score: 37.62, Policy Loss: 16.844784, Value Loss: 879.7298587\n",
      "Episode: 300, Average Score: 41.65, Policy Loss: 17.635956, Value Loss: 1058.428467\n",
      "Episode: 400, Average Score: 47.10, Policy Loss: 14.302736, Value Loss: 651.9958501\n",
      "Episode: 500, Average Score: 55.19, Policy Loss: 5.481175, Value Loss: 129.91313249\n",
      "Episode: 600, Average Score: 56.88, Policy Loss: 20.305529, Value Loss: 1462.643799\n",
      "Episode: 700, Average Score: 61.19, Policy Loss: 13.437521, Value Loss: 721.1988532\n",
      "Episode: 800, Average Score: 71.09, Policy Loss: 16.271505, Value Loss: 1189.202515\n",
      "Episode: 900, Average Score: 72.06, Policy Loss: 15.321953, Value Loss: 892.1857912\n",
      "Episode: 1000, Average Score: 72.15, Policy Loss: 13.141303, Value Loss: 674.279724\n",
      "Episode: 1100, Average Score: 79.04, Policy Loss: 15.495727, Value Loss: 1021.100525\n",
      "Episode: 1200, Average Score: 83.64, Policy Loss: 15.926579, Value Loss: 1134.609863\n",
      "Episode: 1300, Average Score: 82.65, Policy Loss: 17.824247, Value Loss: 1294.226685\n",
      "Episode: 1400, Average Score: 91.20, Policy Loss: 21.489580, Value Loss: 2042.652344\n",
      "Episode: 1500, Average Score: 88.21, Policy Loss: 21.931135, Value Loss: 2049.129883\n",
      "Episode: 1600, Average Score: 93.73, Policy Loss: 13.746443, Value Loss: 910.9138188\n",
      "Episode: 1660, Average Score: 100.12, Policy Loss: 18.815155, Value Loss: 1636.727295\n",
      "Environment solved in 1560 episodes! Average Score: 100.12, Policy Loss: 18.815155, Value Loss: 1636.727295\n",
      "Training completed.\n"
     ]
    }
   ],
   "source": [
    "scores, policy_loss, value_loss = train_agent(num_episodes=2000, max_time=500)"
   ]
  },
  {
   "cell_type": "markdown",
   "metadata": {},
   "source": [
    "## Evaluate The Agent"
   ]
  },
  {
   "cell_type": "code",
   "execution_count": 13,
   "metadata": {},
   "outputs": [
    {
     "data": {
      "image/png": "[encoded data removed]",
      "text/plain": [
       "<Figure size 1000x500 with 1 Axes>"
      ]
     },
     "metadata": {},
     "output_type": "display_data"
    }
   ],
   "source": [
    "plt.figure(figsize=(10,5))\n",
    "plt.plot(np.arange(len(scores)), scores, color='green')\n",
    "plt.xlabel('Num of episodes')\n",
    "plt.ylabel('Score')\n",
    "if not os.path.exists('./images/'): os.makedirs('./images/')\n",
    "plt.savefig('./images/plot_of_a2c_evaluation.png')\n",
    "plt.show()"
   ]
  },
  {
   "cell_type": "markdown",
   "metadata": {},
   "source": [
    "## 🎬 Watch The Smart Agent"
   ]
  },
  {
   "cell_type": "code",
   "execution_count": 14,
   "metadata": {},
   "outputs": [],
   "source": [
    "agent.actor.load_state_dict(torch.load(f'./agents/ACTOR_{ENV_NAME}.pth'));"
   ]
  },
  {
   "cell_type": "code",
   "execution_count": 15,
   "metadata": {},
   "outputs": [
    {
     "name": "stdout",
     "output_type": "stream",
     "text": [
      "Episode: 1, Average Score: 135.00\n",
      "Episode: 2, Average Score: 115.00\n",
      "Episode: 3, Average Score: 79.00\n",
      "Episode: 4, Average Score: 82.00\n",
      "Episode: 5, Average Score: 91.00\n",
      "Episode: 6, Average Score: 133.00\n",
      "Episode: 7, Average Score: 181.00\n",
      "Episode: 8, Average Score: 87.00\n",
      "Episode: 9, Average Score: 101.00\n",
      "Episode: 10, Average Score: 111.00\n"
     ]
    }
   ],
   "source": [
    "agent.watch(num_episodes=10)"
   ]
  },
  {
   "cell_type": "markdown",
   "metadata": {},
   "source": [
    "---"
   ]
  }
 ],
 "metadata": {
  "kernelspec": {
   "display_name": "Python 3 (ipykernel)",
   "language": "python",
   "name": "python3"
  },
  "language_info": {
   "codemirror_mode": {
    "name": "ipython",
    "version": 3
   },
   "file_extension": ".py",
   "mimetype": "text/x-python",
   "name": "python",
   "nbconvert_exporter": "python",
   "pygments_lexer": "ipython3",
   "version": "3.10.9"
  }
 },
 "nbformat": 4,
 "nbformat_minor": 2
}
