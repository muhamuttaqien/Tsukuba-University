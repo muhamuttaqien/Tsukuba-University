{
 "cells": [
  {
   "cell_type": "code",
   "execution_count": 1,
   "id": "b08dc852",
   "metadata": {},
   "outputs": [],
   "source": [
    "import random\n",
    "import pandas as pd\n",
    "import matplotlib.pyplot as plt\n",
    "\n",
    "import ai2thor\n",
    "import ai2thor_colab\n",
    "from ai2thor_colab import plot_frames, side_by_side\n",
    "from ai2thor.controller import Controller\n",
    "\n",
    "from time import sleep\n",
    "from IPython.display import clear_output"
   ]
  },
  {
   "cell_type": "code",
   "execution_count": 2,
   "id": "1981a73a",
   "metadata": {},
   "outputs": [],
   "source": [
    "from ai2thor.platform import CloudRendering\n",
    "controller = Controller(platform=CloudRendering)"
   ]
  },
  {
   "cell_type": "markdown",
   "id": "bccb9762",
   "metadata": {},
   "source": [
    "## Workspace"
   ]
  },
  {
   "cell_type": "code",
   "execution_count": 3,
   "id": "6bc71e09",
   "metadata": {},
   "outputs": [
    {
     "name": "stderr",
     "output_type": "stream",
     "text": [
      "WARNING:py.warnings:/home/muttaqien-m/anaconda3/lib/python3.10/site-packages/ai2thor/controller.py:1275: UserWarning: start method depreciated. The server started when the Controller was initialized.\n",
      "  warnings.warn(\n",
      "\n"
     ]
    },
    {
     "ename": "FileExistsError",
     "evalue": "[Errno 17] File exists",
     "output_type": "error",
     "traceback": [
      "\u001b[0;31m---------------------------------------------------------------------------\u001b[0m",
      "\u001b[0;31mFileExistsError\u001b[0m                           Traceback (most recent call last)",
      "Cell \u001b[0;32mIn[3], line 5\u001b[0m\n\u001b[1;32m      3\u001b[0m \u001b[38;5;28;01mimport\u001b[39;00m \u001b[38;5;21;01mai2thor\u001b[39;00m\u001b[38;5;21;01m.\u001b[39;00m\u001b[38;5;21;01mcontroller\u001b[39;00m\n\u001b[1;32m      4\u001b[0m controller \u001b[38;5;241m=\u001b[39m ai2thor\u001b[38;5;241m.\u001b[39mcontroller\u001b[38;5;241m.\u001b[39mController()\n\u001b[0;32m----> 5\u001b[0m \u001b[43mcontroller\u001b[49m\u001b[38;5;241;43m.\u001b[39;49m\u001b[43mstart\u001b[49m\u001b[43m(\u001b[49m\u001b[43m)\u001b[49m\n\u001b[1;32m      7\u001b[0m \u001b[38;5;66;03m# Kitchens: FloorPlan1 - FloorPlan30\u001b[39;00m\n\u001b[1;32m      8\u001b[0m \u001b[38;5;66;03m# Living rooms: FloorPlan201 - FloorPlan230\u001b[39;00m\n\u001b[1;32m      9\u001b[0m \u001b[38;5;66;03m# Bedrooms: FloorPlan301 - FloorPlan330\u001b[39;00m\n\u001b[1;32m     10\u001b[0m \u001b[38;5;66;03m# Bathrooms: FloorPLan401 - FloorPlan430\u001b[39;00m\n\u001b[1;32m     12\u001b[0m controller\u001b[38;5;241m.\u001b[39mreset(\u001b[38;5;124m'\u001b[39m\u001b[38;5;124mFloorPlan28\u001b[39m\u001b[38;5;124m'\u001b[39m)\n",
      "File \u001b[0;32m~/anaconda3/lib/python3.10/site-packages/ai2thor/controller.py:1287\u001b[0m, in \u001b[0;36mController.start\u001b[0;34m(self, port, start_unity, width, height, x_display, host, player_screen_width, player_screen_height)\u001b[0m\n\u001b[1;32m   1283\u001b[0m env \u001b[38;5;241m=\u001b[39m os\u001b[38;5;241m.\u001b[39menviron\u001b[38;5;241m.\u001b[39mcopy()\n\u001b[1;32m   1285\u001b[0m image_name \u001b[38;5;241m=\u001b[39m \u001b[38;5;28;01mNone\u001b[39;00m\n\u001b[0;32m-> 1287\u001b[0m \u001b[38;5;28;43mself\u001b[39;49m\u001b[38;5;241;43m.\u001b[39;49m\u001b[43mserver\u001b[49m\u001b[38;5;241;43m.\u001b[39;49m\u001b[43mstart\u001b[49m\u001b[43m(\u001b[49m\u001b[43m)\u001b[49m\n\u001b[1;32m   1289\u001b[0m \u001b[38;5;28;01mif\u001b[39;00m start_unity:\n\u001b[1;32m   1291\u001b[0m     \u001b[38;5;28mself\u001b[39m\u001b[38;5;241m.\u001b[39m_build\u001b[38;5;241m.\u001b[39mlock_sh()\n",
      "File \u001b[0;32m~/anaconda3/lib/python3.10/site-packages/ai2thor/fifo_server.py:202\u001b[0m, in \u001b[0;36mFifoServer.start\u001b[0;34m(self)\u001b[0m\n\u001b[1;32m    201\u001b[0m \u001b[38;5;28;01mdef\u001b[39;00m \u001b[38;5;21mstart\u001b[39m(\u001b[38;5;28mself\u001b[39m):\n\u001b[0;32m--> 202\u001b[0m     \u001b[43mos\u001b[49m\u001b[38;5;241;43m.\u001b[39;49m\u001b[43mmkfifo\u001b[49m\u001b[43m(\u001b[49m\u001b[38;5;28;43mself\u001b[39;49m\u001b[38;5;241;43m.\u001b[39;49m\u001b[43mserver_pipe_path\u001b[49m\u001b[43m)\u001b[49m\n\u001b[1;32m    203\u001b[0m     os\u001b[38;5;241m.\u001b[39mmkfifo(\u001b[38;5;28mself\u001b[39m\u001b[38;5;241m.\u001b[39mclient_pipe_path)\n\u001b[1;32m    204\u001b[0m     \u001b[38;5;28mself\u001b[39m\u001b[38;5;241m.\u001b[39mstarted \u001b[38;5;241m=\u001b[39m \u001b[38;5;28;01mTrue\u001b[39;00m\n",
      "\u001b[0;31mFileExistsError\u001b[0m: [Errno 17] File exists"
     ]
    }
   ],
   "source": [
    "# A simple example that moves the agent ahead by one step and returns the corresponding image and metadata.\n",
    "\n",
    "import ai2thor.controller\n",
    "controller = ai2thor.controller.Controller()\n",
    "controller.start()\n",
    "\n",
    "# Kitchens: FloorPlan1 - FloorPlan30\n",
    "# Living rooms: FloorPlan201 - FloorPlan230\n",
    "# Bedrooms: FloorPlan301 - FloorPlan330\n",
    "# Bathrooms: FloorPLan401 - FloorPlan430\n",
    "\n",
    "controller.reset('FloorPlan28')\n",
    "controller.step(dict(action='Initialize', gridSize=0.25))\n",
    "\n",
    "event = controller.step(dict(action='MoveAhead'))\n",
    "\n",
    "# Numpy Array - shape (width, height, channels), channels are in RGB order\n",
    "event.frame\n",
    "\n",
    "# Numpy Array in BGR order suitable for use with OpenCV\n",
    "event.cv2image()\n",
    "\n",
    "# current metadata dictionary that includes the state of the scene\n",
    "event.metadata"
   ]
  },
  {
   "cell_type": "markdown",
   "id": "a3e51663",
   "metadata": {},
   "source": [
    "---"
   ]
  }
 ],
 "metadata": {
  "kernelspec": {
   "display_name": "Python 3 (ipykernel)",
   "language": "python",
   "name": "python3"
  },
  "language_info": {
   "codemirror_mode": {
    "name": "ipython",
    "version": 3
   },
   "file_extension": ".py",
   "mimetype": "text/x-python",
   "name": "python",
   "nbconvert_exporter": "python",
   "pygments_lexer": "ipython3",
   "version": "3.10.9"
  }
 },
 "nbformat": 4,
 "nbformat_minor": 5
}
