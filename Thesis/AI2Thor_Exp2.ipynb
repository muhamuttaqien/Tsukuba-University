{
 "cells": [
  {
   "cell_type": "code",
   "execution_count": 1,
   "id": "b08dc852",
   "metadata": {},
   "outputs": [],
   "source": [
    "import random\n",
    "import pandas as pd\n",
    "import matplotlib.pyplot as plt\n",
    "\n",
    "import ai2thor\n",
    "import ai2thor_colab\n",
    "from ai2thor_colab import plot_frames, side_by_side\n",
    "from ai2thor.controller import Controller\n",
    "\n",
    "from time import sleep\n",
    "from IPython.display import clear_output"
   ]
  },
  {
   "cell_type": "code",
   "execution_count": 2,
   "id": "1981a73a",
   "metadata": {},
   "outputs": [],
   "source": [
    "from ai2thor.platform import CloudRendering\n",
    "controller = Controller(platform=CloudRendering)"
   ]
  },
  {
   "cell_type": "markdown",
   "id": "bccb9762",
   "metadata": {},
   "source": [
    "## Workspace"
   ]
  },
  {
   "cell_type": "code",
   "execution_count": 3,
   "id": "ed666d9b",
   "metadata": {},
   "outputs": [],
   "source": [
    "def show_object_detected(controller):\n",
    "\n",
    "    data = controller.last_event.metadata['objects']\n",
    "\n",
    "    df_data = pd.DataFrame(data)\n",
    "\n",
    "    df_object = df_data[(df_data['name'] == 'Toaster_70e5cd67') | (df_data['name'] == 'CoffeeMachine_95f5a8d0') | \n",
    "                        (df_data['name'] == 'Microwave_d485f342') | (df_data['name'] == 'Fridge_a2da9221') | \n",
    "                        (df_data['name'] == 'LightSwitch_186a463a')]\n",
    "    \n",
    "    print('Object detected:')\n",
    "    print(dict(df_object['name'][df_object['visible'] == True]))"
   ]
  },
  {
   "cell_type": "code",
   "execution_count": 4,
   "id": "d71b713c",
   "metadata": {},
   "outputs": [],
   "source": [
    "floor_index = random.randint(0, 30)\n",
    "floor_index = 26\n",
    "\n",
    "controller = Controller(\n",
    "    agentMode = \"default\", # arm\n",
    "    visibilityDistance = 0.75,\n",
    "    scene = f\"FloorPlan{floor_index}\",\n",
    "\n",
    "    # step sizes\n",
    "    gridSize = 0.25,\n",
    "    snapToGrid = True,\n",
    "    rotateStepDegrees = 90,\n",
    "\n",
    "    # image modalities\n",
    "    renderInstanceSegmentation = False,\n",
    "    renderDepthImage = False,\n",
    "    renderSemanticSegmentation = False,\n",
    "    renderNormalsImage = False,\n",
    "    \n",
    "    # camera properties\n",
    "    width = 1200,\n",
    "    height = 800,\n",
    "    fieldOfView = 120,\n",
    "    \n",
    "    # randomize initial position\n",
    "    randomizeInitialPosition = True\n",
    ")"
   ]
  },
  {
   "cell_type": "code",
   "execution_count": 5,
   "id": "013a1f18",
   "metadata": {},
   "outputs": [],
   "source": [
    "command = {\n",
    "    \"w\": \"MoveAhead\", \n",
    "    \"a\": \"MoveLeft\", \n",
    "    \"s\": \"MoveBack\", \n",
    "    \"d\": \"MoveRight\", \n",
    "\n",
    "    \"l\": \"RotateLeft\", \n",
    "    \"r\": \"RotateRight\"\n",
    "}"
   ]
  },
  {
   "cell_type": "code",
   "execution_count": null,
   "id": "d40e1615",
   "metadata": {},
   "outputs": [],
   "source": [
    "while True:\n",
    "    key = input(\"Input your command: \")\n",
    "    \n",
    "    clear_output(True)\n",
    "\n",
    "    event = controller.step(action=command[key])\n",
    "    agent_position = event.metadata[\"agent\"][\"position\"]\n",
    "\n",
    "    print(\"Agent position:\")\n",
    "    print(agent_position)\n",
    "    show_object_detected(controller)\n",
    "\n",
    "    plot_frames(controller.last_event)"
   ]
  },
  {
   "cell_type": "markdown",
   "id": "a3e51663",
   "metadata": {},
   "source": [
    "---"
   ]
  }
 ],
 "metadata": {
  "kernelspec": {
   "display_name": "Python 3 (ipykernel)",
   "language": "python",
   "name": "python3"
  },
  "language_info": {
   "codemirror_mode": {
    "name": "ipython",
    "version": 3
   },
   "file_extension": ".py",
   "mimetype": "text/x-python",
   "name": "python",
   "nbconvert_exporter": "python",
   "pygments_lexer": "ipython3",
   "version": "3.10.9"
  }
 },
 "nbformat": 4,
 "nbformat_minor": 5
}
