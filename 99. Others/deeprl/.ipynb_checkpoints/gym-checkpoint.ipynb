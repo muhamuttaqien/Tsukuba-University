{
 "cells": [
  {
   "cell_type": "code",
   "execution_count": 1,
   "id": "d238c4e9",
   "metadata": {},
   "outputs": [],
   "source": [
    "import gymnasium as gym\n",
    "import matplotlib.pyplot as plt"
   ]
  },
  {
   "cell_type": "code",
   "execution_count": 2,
   "id": "f8f30100",
   "metadata": {},
   "outputs": [],
   "source": [
    "plt.style.use('ggplot')"
   ]
  },
  {
   "cell_type": "markdown",
   "id": "bab4fdb9",
   "metadata": {},
   "source": [
    "## Set Configs"
   ]
  },
  {
   "cell_type": "code",
   "execution_count": 3,
   "id": "100b7e46",
   "metadata": {},
   "outputs": [
    {
     "data": {
      "text/plain": [
       "<Figure size 1000x600 with 0 Axes>"
      ]
     },
     "metadata": {},
     "output_type": "display_data"
    }
   ],
   "source": [
    "# Set the figure size\n",
    "plt.figure(figsize=(10, 6));"
   ]
  },
  {
   "cell_type": "markdown",
   "id": "9466e9b3",
   "metadata": {},
   "source": [
    "## Init Env"
   ]
  },
  {
   "cell_type": "code",
   "execution_count": 4,
   "id": "3d21c1f1",
   "metadata": {},
   "outputs": [],
   "source": [
    "# CLASSIC CONTROL\n",
    "env = gym.make(\"Acrobot-v1\", render_mode=\"human\")\n",
    "env = gym.make(\"CartPole-v1\", render_mode=\"human\")\n",
    "env = gym.make(\"MountainCarContinuous-v0\", render_mode=\"human\")\n",
    "env = gym.make(\"MountainCar-v0\", render_mode=\"human\")\n",
    "env = gym.make(\"Pendulum-v1\", render_mode=\"human\")"
   ]
  },
  {
   "cell_type": "code",
   "execution_count": 5,
   "id": "d0463449",
   "metadata": {},
   "outputs": [],
   "source": [
    "# BOX2D\n",
    "env = gym.make(\"BipedalWalker-v3\", render_mode=\"human\", hardcore=True)\n",
    "env = gym.make(\"CarRacing-v2\", render_mode=\"human\", domain_randomize=True)\n",
    "env = gym.make(\"LunarLander-v2\", render_mode=\"human\")"
   ]
  },
  {
   "cell_type": "code",
   "execution_count": 6,
   "id": "b8052305",
   "metadata": {},
   "outputs": [],
   "source": [
    "# TOY TEXT\n",
    "env = gym.make(\"Blackjack-v1\", render_mode=\"human\")\n",
    "env = gym.make(\"Taxi-v3\", render_mode=\"human\")\n",
    "env = gym.make(\"CliffWalking-v0\", render_mode=\"human\")\n",
    "env = gym.make(\"FrozenLake-v1\", render_mode=\"human\")"
   ]
  },
  {
   "cell_type": "markdown",
   "id": "93ec7687",
   "metadata": {},
   "source": [
    "## Run Agent"
   ]
  },
  {
   "cell_type": "code",
   "execution_count": 7,
   "id": "987fe462",
   "metadata": {},
   "outputs": [],
   "source": [
    "observation, info = env.reset()\n",
    "\n",
    "num_episodes = 10\n",
    "max_steps_per_episode = 20\n",
    "rewards_per_episode = [] # List to store collected rewards\n",
    "\n",
    "for episode in range(num_episodes):\n",
    "    observation = env.reset()\n",
    "    episode_reward = 0  # Total reward for the current episode\n",
    "\n",
    "    for step in range(max_steps_per_episode):\n",
    "        env.render()\n",
    "\n",
    "        action = env.action_space.sample()\n",
    "        observation, reward, terminated, truncated, info = env.step(action)\n",
    "\n",
    "        episode_reward += reward  # Accumulate the reward for the episode\n",
    "\n",
    "        if terminated or truncated:\n",
    "            break  # Exit the inner loop if the episode is terminated\n",
    "\n",
    "    rewards_per_episode.append(episode_reward)  # Store the total reward for the episode\n",
    "\n",
    "env.close()"
   ]
  },
  {
   "cell_type": "markdown",
   "id": "bc77686e",
   "metadata": {},
   "source": [
    "## Plot Reward"
   ]
  },
  {
   "cell_type": "code",
   "execution_count": 8,
   "id": "48aa4e2c",
   "metadata": {},
   "outputs": [
    {
     "data": {
      "image/png": "[encoded data removed]",
      "text/plain": [
       "<Figure size 640x480 with 1 Axes>"
      ]
     },
     "metadata": {},
     "output_type": "display_data"
    }
   ],
   "source": [
    "# Plot the collected rewards\n",
    "plt.plot(rewards_per_episode)\n",
    "plt.title('Collected Rewards Over Episodes')\n",
    "plt.xlabel('Time Step')\n",
    "plt.ylabel('Reward')\n",
    "plt.show()"
   ]
  },
  {
   "cell_type": "markdown",
   "id": "7e8e5ea4",
   "metadata": {},
   "source": [
    "---"
   ]
  }
 ],
 "metadata": {
  "kernelspec": {
   "display_name": "Python 3 (ipykernel)",
   "language": "python",
   "name": "python3"
  },
  "language_info": {
   "codemirror_mode": {
    "name": "ipython",
    "version": 3
   },
   "file_extension": ".py",
   "mimetype": "text/x-python",
   "name": "python",
   "nbconvert_exporter": "python",
   "pygments_lexer": "ipython3",
   "version": "3.8.10"
  }
 },
 "nbformat": 4,
 "nbformat_minor": 5
}
